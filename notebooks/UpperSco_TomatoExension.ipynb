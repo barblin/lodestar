{
 "cells": [
  {
   "cell_type": "code",
   "execution_count": 1,
   "id": "3cb23209",
   "metadata": {},
   "outputs": [],
   "source": [
    "import time\n",
    "import numpy as np\n",
    "import pandas as pd\n",
    "import sys\n",
    "import networkx as nx\n",
    "from networkx.drawing.nx_pydot import graphviz_layout\n",
    "import matplotlib.pyplot as plt\n",
    "\n",
    "import plotly.graph_objects as go\n",
    "from plotly.subplots import make_subplots\n",
    "import plotly.express as px"
   ]
  },
  {
   "cell_type": "code",
   "execution_count": 2,
   "id": "c901f9c2",
   "metadata": {},
   "outputs": [],
   "source": [
    "sys.path.append('/home/sebastian/Documents/PhD/pyprojects/')\n",
    "sys.path.append('/home/sebastian/Documents/PhD/pyprojects/Modality/')\n",
    "\n",
    "from Modality.TomatoExtension import TomatoExtension\n",
    "from ScaleSpace.ScaleSpace import ScaleSpaceTree\n",
    "from NoiseRemoval.ClusterGMM import gmm_cut\n"
   ]
  },
  {
   "cell_type": "markdown",
   "id": "c46cd5fa",
   "metadata": {},
   "source": [
    "# Import data"
   ]
  },
  {
   "cell_type": "code",
   "execution_count": 4,
   "id": "48bcc554",
   "metadata": {
    "tags": []
   },
   "outputs": [],
   "source": [
    "fname = 'cluster_data_uppersco_extravel_covmtx.csv'\n",
    "data = pd.read_csv(fname)"
   ]
  },
  {
   "cell_type": "code",
   "execution_count": 20,
   "id": "56e8b960",
   "metadata": {},
   "outputs": [
    {
     "name": "stderr",
     "output_type": "stream",
     "text": [
      "/home/sebastian/anaconda3/envs/my_root_env/lib/python3.6/site-packages/pandas/core/frame.py:3069: SettingWithCopyWarning:\n",
      "\n",
      "\n",
      "A value is trying to be set on a copy of a slice from a DataFrame.\n",
      "Try using .loc[row_indexer,col_indexer] = value instead\n",
      "\n",
      "See the caveats in the documentation: https://pandas.pydata.org/pandas-docs/stable/user_guide/indexing.html#returning-a-view-versus-a-copy\n",
      "\n"
     ]
    }
   ],
   "source": [
    "data_axes = ['X', 'Y', 'Z', 'v_alpha', 'v_delta']\n",
    "pos_cols = ['X', 'Y', 'Z']\n",
    "c_pos, c_vel = 1, 5   # See infos on scaling in Kerr+2021 (https://arxiv.org/pdf/2105.09338.pdf)\n",
    "\n",
    "df_cluster = data[data_axes]\n",
    "df_cluster[['v_alpha', 'v_delta']] *= c_vel"
   ]
  },
  {
   "cell_type": "markdown",
   "id": "16bf8e6f",
   "metadata": {
    "tags": []
   },
   "source": [
    "# Graph and mid point preparation"
   ]
  },
  {
   "cell_type": "code",
   "execution_count": 25,
   "id": "926ccd9e",
   "metadata": {},
   "outputs": [
    {
     "name": "stdout",
     "output_type": "stream",
     "text": [
      "CPU times: user 7 µs, sys: 0 ns, total: 7 µs\n",
      "Wall time: 13.1 µs\n"
     ]
    }
   ],
   "source": [
    "%%time\n",
    "max_knn = 70\n",
    "#te = TomatoExtension(df_cluster, max_neighbors=100, beta=0.99, knn_cluster_graph=50, knn_hypotest=20, knn_max=max_knn)"
   ]
  },
  {
   "cell_type": "code",
   "execution_count": 26,
   "id": "dcb6eeff",
   "metadata": {
    "tags": []
   },
   "outputs": [
    {
     "name": "stdout",
     "output_type": "stream",
     "text": [
      "CPU times: user 35.4 s, sys: 93.2 ms, total: 35.5 s\n",
      "Wall time: 8.99 s\n"
     ]
    }
   ],
   "source": [
    "%%time\n",
    "te.update(knn_hypotest=20, knn_cluster_graph=40)\n",
    "res = te.fit(alpha=0.05)"
   ]
  },
  {
   "cell_type": "code",
   "execution_count": 27,
   "id": "00205f6c",
   "metadata": {
    "tags": []
   },
   "outputs": [
    {
     "data": {
      "text/plain": [
       "(array([  0,   7,  10,  16,  25,  31,  33,  35,  36,  39,  41,  47,  50,\n",
       "         51,  54,  57,  58,  60,  61,  64,  66,  68,  73,  77,  78,  83,\n",
       "         88,  93,  95,  96, 101, 103, 104, 109, 110, 112, 113, 114, 116,\n",
       "        131, 136, 142]),\n",
       " array([ 663,  741, 1181,   92,  722,  162, 5169, 2298,  204,  625,  351,\n",
       "        3193,  271,  562,  147,  576,  312,  928, 1631,  998, 3750, 2369,\n",
       "         382,  238,  150,   78, 2973,  820, 2801,  408, 2070,  531, 1683,\n",
       "        1063,  743, 1817,  397, 1148,  628,  211,  211, 1196]))"
      ]
     },
     "execution_count": 27,
     "metadata": {},
     "output_type": "execute_result"
    }
   ],
   "source": [
    "# Clusters\n",
    "np.unique(res, return_counts=True)"
   ]
  },
  {
   "cell_type": "markdown",
   "id": "d49ae743",
   "metadata": {},
   "source": [
    "## Remove noise in new setting"
   ]
  },
  {
   "cell_type": "code",
   "execution_count": 28,
   "id": "5c8cb62b",
   "metadata": {},
   "outputs": [],
   "source": [
    "from sklearn.neighbors import kneighbors_graph\n",
    "\n",
    "ajm_knn = kneighbors_graph(df_cluster, n_neighbors=10, include_self=True, n_jobs=-1)"
   ]
  },
  {
   "cell_type": "code",
   "execution_count": null,
   "id": "42d97f9b",
   "metadata": {
    "tags": []
   },
   "outputs": [
    {
     "name": "stdout",
     "output_type": "stream",
     "text": [
      "Removing noise from cluster 0\n",
      "Step 1: Reduction to dense cores\n",
      "Step 2: Computing optimal velocity\n",
      "Step 3: Finding dense regions in XYZ-UVW\n",
      "24 part of cluster\n",
      "------------------------------\n",
      "Removing noise from cluster 7\n",
      "Step 1: Reduction to dense cores\n",
      "Step 2: Computing optimal velocity\n",
      "Step 3: Finding dense regions in XYZ-UVW\n",
      "Removing noise from cluster 10\n",
      "Step 1: Reduction to dense cores\n",
      "Step 2: Computing optimal velocity\n",
      "Step 3: Finding dense regions in XYZ-UVW\n",
      "64 part of cluster\n",
      "------------------------------\n",
      "Removing noise from cluster 16\n",
      "Step 1: Reduction to dense cores\n",
      "Step 2: Computing optimal velocity\n",
      "Step 3: Finding dense regions in XYZ-UVW\n",
      "16 part of cluster\n",
      "------------------------------\n",
      "Removing noise from cluster 25\n",
      "Step 1: Reduction to dense cores\n",
      "Step 2: Computing optimal velocity\n"
     ]
    }
   ],
   "source": [
    "clustering_res = -np.ones(data.shape[0])\n",
    "\n",
    "for uid in np.unique(res):\n",
    "    print(f'Removing noise from cluster {uid}')\n",
    "    ba, good_cluster = remove_noise_tomatoext(\n",
    "        data=df_cluster,\n",
    "        cluster_bool_arr=res == uid, \n",
    "        te_obj=te, \n",
    "        pos_cols=pos_cols,\n",
    "        nb_neigh_denstiy=10,\n",
    "        data_full=data, \n",
    "        ra_col='ra', dec_col='dec', plx_col='parallax', pmra_col='pmra', pmdec_col='pmdec',\n",
    "        rv_col='dr2_radial_velocity', rv_err_col='dr2_radial_velocity_error', uvw_cols=['u', 'v', 'w'],\n",
    "        adjacency_mtrx=ajm_knn, \n",
    "        radius=8,\n",
    "        min_cluster_size=10\n",
    "    )\n",
    "    if good_cluster:\n",
    "        clustering_res[ba] = uid\n",
    "        print(f'{np.sum(ba)} part of cluster')\n",
    "        print(f'{30 * \"-\"}')"
   ]
  },
  {
   "cell_type": "markdown",
   "id": "1bd473f9",
   "metadata": {},
   "source": [
    "# Plot clusters"
   ]
  },
  {
   "cell_type": "code",
   "execution_count": 19,
   "id": "bb395449",
   "metadata": {
    "tags": []
   },
   "outputs": [],
   "source": [
    "cs = clustering_res  #fc_noise_removed  # cs_renamed\n",
    "df_plot = data.loc[cs!=-1].reset_index(drop=True)\n",
    "clustering_solution = cs.astype(int)\n",
    "clustering_solution = clustering_solution[clustering_solution!=-1]\n",
    "cut_us = np.random.uniform(0,1,size=clustering_solution.shape[0])<0.1\n",
    "\n",
    "\n",
    "bg_opacity = 0.1\n",
    "bg_color = 'grey'\n",
    "plt_colors = [\n",
    "    '#636EFA',\n",
    "    '#EF553B',\n",
    "    '#00CC96',\n",
    "    '#AB63FA',\n",
    "    '#FFA15A',\n",
    "    '#19D3F3',\n",
    "    '#FF6692',\n",
    "    '#B6E880',\n",
    "    '#FF97FF',\n",
    "    '#FECB52',\n",
    "    '#B82E2E',\n",
    "    '#316395'\n",
    "]\n",
    "\n",
    "\n",
    "# Create figure\n",
    "fig = make_subplots(\n",
    "    rows=1, cols=3,\n",
    "    specs=[[{\"type\": \"scatter3d\"}, {\"type\": \"xy\"}, {\"type\": \"xy\"}]],\n",
    "    column_widths=[0.5, 0.3, 0.2],\n",
    "    subplot_titles=[\n",
    "        'Galactic position', \n",
    "        'Tangential velocity', \n",
    "        'HRD'\n",
    "    ],\n",
    "\n",
    ")\n",
    "\n",
    "# --------------- 3D scatter plot -------------------\n",
    "trace_3d_bg = go.Scatter3d(\n",
    "    x=df_plot.loc[cut_us, 'X'], y=df_plot.loc[cut_us, 'Y'], z=df_plot.loc[cut_us, 'Z'],\n",
    "    mode='markers',\n",
    "    marker=dict(size=1, color=bg_color,\n",
    "                opacity=bg_opacity\n",
    "               ),\n",
    "    hoverinfo='none',\n",
    "    showlegend=False,\n",
    ")\n",
    "fig.add_trace(trace_3d_bg, row=1, col=1)\n",
    "\n",
    "trace_sun = go.Scatter3d(\n",
    "    x=np.zeros(1), y=np.zeros(1), z=np.zeros(1),\n",
    "    mode='markers',\n",
    "    marker=dict(size=5, color='red',\n",
    "                symbol='x'\n",
    "               ),\n",
    "    hoverinfo='none',\n",
    "    showlegend=True,\n",
    "    name='Sun'\n",
    ")\n",
    "\n",
    "fig.add_trace(trace_sun, row=1, col=1)\n",
    "\n",
    "# trace_hrd_isochrone = go.Scatter(\n",
    "#     x=coords[:,0], y=coords[:,1],\n",
    "#     mode='lines',\n",
    "#     marker=dict(line_width=0.5, color='black',\n",
    "#                 opacity=0.3\n",
    "#                ),\n",
    "#     hoverinfo='none',\n",
    "#     showlegend=True,\n",
    "#     name='50 My'\n",
    "# )\n",
    "# fig.add_trace(trace_hrd_isochrone, row=1, col=3)\n",
    "\n",
    "\n",
    "\n",
    "\n",
    "for i, uid in enumerate(np.unique(clustering_solution)):\n",
    "    if uid!=-1:\n",
    "        plot_points = (clustering_solution==uid) #& cut_us\n",
    "        trace_3d = go.Scatter3d(\n",
    "            x=df_plot.loc[plot_points, 'X'], y=df_plot.loc[plot_points, 'Y'], z=df_plot.loc[plot_points, 'Z'],\n",
    "            mode='markers',\n",
    "            marker=dict(size=1, color=plt_colors[i%len(plt_colors)]),\n",
    "            hoverinfo='none',\n",
    "            showlegend=True,\n",
    "            name=f'Cluster {int(uid)} ({np.sum(plot_points)} stars)',\n",
    "            legendgroup=f'group-{uid}',\n",
    "        )\n",
    "        fig.add_trace(trace_3d, row=1, col=1)\n",
    "# --------------- 2D vel plot -------------------\n",
    "trace_vel_bg = go.Scatter(\n",
    "    x=df_plot.loc[cut_us, 'v_alpha'], y=df_plot.loc[cut_us, 'v_delta'],\n",
    "    mode='markers',\n",
    "    marker=dict(size=3, color=bg_color,\n",
    "                opacity=bg_opacity\n",
    "               ),\n",
    "    hoverinfo='none',\n",
    "    showlegend=False\n",
    ")\n",
    "fig.add_trace(trace_vel_bg, row=1, col=2)\n",
    "\n",
    "for i, uid in enumerate(np.unique(clustering_solution)):\n",
    "    if uid!=-1:\n",
    "        plot_points = (clustering_solution==uid) #& cut_us\n",
    "        trace_vel = go.Scatter(\n",
    "            x=df_plot.loc[plot_points, 'v_alpha'], y=df_plot.loc[plot_points, 'v_delta'],\n",
    "            mode='markers',\n",
    "            marker=dict(size=3, color=plt_colors[i%len(plt_colors)], \n",
    "                     #colorscale='inferno',\n",
    "                     #opacity=,\n",
    "                    ),\n",
    "            hoverinfo='none',\n",
    "            legendgroup=f'group-{uid}',\n",
    "            name=f'Cluster {uid} ({np.sum(plot_points)} stars)',\n",
    "            showlegend=False\n",
    "        )\n",
    "        fig.add_trace(trace_vel, row=1, col=2)\n",
    "\n",
    "\n",
    "# --------------- HRD plot -------------------\n",
    "trace_hrd_bg = go.Scatter(\n",
    "    x=df_plot.loc[cut_us, 'g_rp'], y=df_plot.loc[cut_us, 'mag_abs_g'],\n",
    "    mode='markers',\n",
    "    marker=dict(size=3, color=bg_color,\n",
    "                opacity=bg_opacity\n",
    "               ),\n",
    "    hoverinfo='none',\n",
    "    showlegend=False\n",
    ")\n",
    "fig.add_trace(trace_hrd_bg, row=1, col=3)\n",
    "\n",
    "for i, uid in enumerate(np.unique(clustering_solution)):\n",
    "    if uid!=-1:\n",
    "        plot_points = (clustering_solution==uid) #& cut_us\n",
    "        trace_hrd = go.Scatter(\n",
    "            x=df_plot.loc[plot_points, 'g_rp'], y=df_plot.loc[plot_points, 'mag_abs_g'],\n",
    "            mode='markers',\n",
    "            marker=dict(size=3, color=plt_colors[i%len(plt_colors)], \n",
    "                     #colorscale='inferno',\n",
    "                     #opacity=,\n",
    "                    ),\n",
    "            hoverinfo='none',\n",
    "            legendgroup=f'group-{uid}',\n",
    "            name=f'Cluster {uid} ({np.sum(plot_points)} stars)',\n",
    "            showlegend=False\n",
    "        )\n",
    "        fig.add_trace(trace_hrd, row=1, col=3)\n",
    "\n",
    "\n",
    "\n",
    "# ------------ Update axis information ---------------\n",
    "# 3d position\n",
    "plt_kwargs = dict(showbackground=False, showline=False, zeroline=True, zerolinecolor='grey', zerolinewidth=2, \n",
    "                  showgrid=True, showticklabels=True, \n",
    "                  linecolor='black', linewidth=1,  gridcolor='rgba(100,100,100,0.5)')\n",
    "\n",
    "xaxis=dict(**plt_kwargs, title='X [pc]') #, tickmode = 'linear', dtick = 50, range=[-50,200])\n",
    "yaxis=dict(**plt_kwargs, title='Y [pc]') #, tickmode = 'linear', dtick = 50, range=[-200, 50])\n",
    "zaxis=dict(**plt_kwargs, title='Z [pc]') #, tickmode = 'linear', dtick = 50, range=[-100, 150])\n",
    "# tangential vel\n",
    "fig.update_xaxes(title_text=\"v_alpha\", showgrid=False, row=1, col=2)\n",
    "fig.update_yaxes(title_text=\"v_delta\", showgrid=False, row=1, col=2)\n",
    "# tangential vel\n",
    "fig.update_xaxes(title_text=\"G-RP\", showgrid=False, row=1, col=3)\n",
    "fig.update_yaxes(title_text=\"Abs mag G\", showgrid=False, autorange=\"reversed\", row=1, col=3)\n",
    "\n",
    "\n",
    "# Finalize layout\n",
    "fig.update_layout(\n",
    "    title=\"\",\n",
    "    #width=800,\n",
    "    height=800,\n",
    "    showlegend=True,\n",
    "    paper_bgcolor='rgba(0,0,0,0)',\n",
    "    plot_bgcolor='rgba(0,0,0,0)',\n",
    "    legend= dict(itemsizing='constant'),\n",
    "    # 3D plot\n",
    "    scene=dict(\n",
    "        xaxis=dict(xaxis),\n",
    "        yaxis=dict(yaxis),\n",
    "        zaxis=dict(zaxis)\n",
    "    )\n",
    ")\n",
    "\n",
    "\n",
    "fig.write_html(f\"tomato_ext_latest_plot.html\")"
   ]
  },
  {
   "cell_type": "markdown",
   "id": "e861e8d9",
   "metadata": {
    "tags": []
   },
   "source": [
    "# Construct scale space"
   ]
  },
  {
   "cell_type": "code",
   "execution_count": 10,
   "id": "941cbe25",
   "metadata": {
    "collapsed": true,
    "jupyter": {
     "outputs_hidden": true
    },
    "tags": []
   },
   "outputs": [
    {
     "name": "stdout",
     "output_type": "stream",
     "text": [
      "Number of neighbors: 10 level 0 took 33.89 sec\n",
      "Number of neighbors: 12 level 1 took 29.70 sec\n",
      "Number of neighbors: 14 level 2 took 27.49 sec\n",
      "Number of neighbors: 16 level 3 took 24.35 sec\n",
      "Number of neighbors: 18 level 4 took 22.84 sec\n",
      "Number of neighbors: 20 level 5 took 22.05 sec\n",
      "Number of neighbors: 22 level 6 took 20.75 sec\n",
      "Number of neighbors: 24 level 7 took 20.32 sec\n",
      "Number of neighbors: 26 level 8 took 20.36 sec\n",
      "Number of neighbors: 28 level 9 took 20.03 sec\n",
      "Number of neighbors: 30 level 10 took 20.58 sec\n",
      "Number of neighbors: 32 level 11 took 20.57 sec\n",
      "Number of neighbors: 34 level 12 took 20.88 sec\n",
      "Number of neighbors: 36 level 13 took 21.64 sec\n",
      "Number of neighbors: 38 level 14 took 22.04 sec\n",
      "Number of neighbors: 40 level 15 took 22.62 sec\n",
      "Number of neighbors: 42 level 16 took 22.82 sec\n",
      "Number of neighbors: 44 level 17 took 23.96 sec\n",
      "Number of neighbors: 46 level 18 took 24.90 sec\n",
      "Number of neighbors: 48 level 19 took 26.53 sec\n",
      "Number of neighbors: 50 level 20 took 27.74 sec\n",
      "Number of neighbors: 52 level 21 took 26.76 sec\n",
      "Number of neighbors: 54 level 22 took 26.48 sec\n",
      "Number of neighbors: 56 level 23 took 26.84 sec\n",
      "Number of neighbors: 58 level 24 took 29.28 sec\n",
      "Number of neighbors: 60 level 25 took 27.56 sec\n",
      "Number of neighbors: 62 level 26 took 27.28 sec\n",
      "Number of neighbors: 64 level 27 took 27.99 sec\n",
      "Number of neighbors: 66 level 28 took 30.96 sec\n",
      "Number of neighbors: 68 level 29 took 31.23 sec\n",
      "Number of neighbors: 70 level 30 took 31.13 sec\n",
      "Number of neighbors: 72 level 31 took 31.66 sec\n",
      "Number of neighbors: 74 level 32 took 31.32 sec\n",
      "Number of neighbors: 76 level 33 took 31.94 sec\n",
      "Number of neighbors: 78 level 34 took 32.17 sec\n",
      "Number of neighbors: 80 level 35 took 33.18 sec\n",
      "Number of neighbors: 82 level 36 took 33.49 sec\n",
      "Number of neighbors: 84 level 37 took 39.98 sec\n",
      "Number of neighbors: 86 level 38 took 39.65 sec\n",
      "Number of neighbors: 88 level 39 took 41.21 sec\n",
      "Number of neighbors: 90 level 40 took 41.60 sec\n",
      "Number of neighbors: 92 level 41 took 41.56 sec\n",
      "Number of neighbors: 94 level 42 took 39.62 sec\n",
      "Number of neighbors: 96 level 43 took 38.76 sec\n",
      "Number of neighbors: 98 level 44 took 40.10 sec\n"
     ]
    }
   ],
   "source": [
    "sst = ScaleSpaceTree(data_size=data.shape[0], min_jaccard_sim=0.5)\n",
    "\n",
    "alpha = 0.01\n",
    "data_idx = np.arange(data.shape[0])\n",
    "knn_densities_ssp = np.arange(10,100,2)\n",
    "\n",
    "for i, nb_neighs in enumerate(knn_densities_ssp):\n",
    "    st = time.time()\n",
    "    print(f'Number of neighbors: {nb_neighs}', end=' ')\n",
    "    # Add level to scale space\n",
    "    te.update(nb_neighs)\n",
    "    res = te.fit(alpha=alpha)\n",
    "    modes = {uid: data_idx[res==uid][np.argmax(te.t.weights_[res==uid])] for uid in np.unique(res)}\n",
    "    part = {modes[uid]: data_idx[res==uid] for uid in np.unique(res)}\n",
    "    sst.next_scale(partitions=part)\n",
    "    print(f'- level {i} took {time.time()-st:.2f} sec')"
   ]
  },
  {
   "cell_type": "code",
   "execution_count": 11,
   "id": "f4656d92",
   "metadata": {},
   "outputs": [],
   "source": [
    "ssp_clusters = sst.scale_space_clusters\n",
    "\n",
    "G_ssp = nx.Graph()\n",
    "G_ssp.add_nodes_from(ssp_clusters.keys())\n",
    "for cli in ssp_clusters.keys():\n",
    "    for child in ssp_clusters[cli].child_list:\n",
    "        G_ssp.add_edge(cli, child)"
   ]
  },
  {
   "cell_type": "code",
   "execution_count": 12,
   "id": "ed17fa79",
   "metadata": {},
   "outputs": [
    {
     "data": {
      "image/png": "[encoded data removed]",
      "text/plain": [
       "<Figure size 432x288 with 1 Axes>"
      ]
     },
     "metadata": {},
     "output_type": "display_data"
    }
   ],
   "source": [
    "# Might have to call the function multiple times since different connected components might overlap\n",
    "pos = graphviz_layout(G_ssp, prog=\"dot\", )\n",
    "nx.draw(G_ssp, pos, node_size=2, node_color='r', font_size=0, style=\"dotted\")\n",
    "\n",
    "plt.show()"
   ]
  },
  {
   "cell_type": "code",
   "execution_count": null,
   "id": "5fda504b",
   "metadata": {},
   "outputs": [],
   "source": []
  },
  {
   "cell_type": "code",
   "execution_count": null,
   "id": "82b9f697",
   "metadata": {},
   "outputs": [],
   "source": []
  },
  {
   "cell_type": "code",
   "execution_count": null,
   "id": "27453e0c",
   "metadata": {},
   "outputs": [],
   "source": []
  },
  {
   "cell_type": "code",
   "execution_count": null,
   "id": "165afced",
   "metadata": {},
   "outputs": [],
   "source": []
  },
  {
   "cell_type": "code",
   "execution_count": null,
   "id": "dc459e0b",
   "metadata": {},
   "outputs": [],
   "source": []
  },
  {
   "cell_type": "code",
   "execution_count": null,
   "id": "ec0d84de",
   "metadata": {},
   "outputs": [],
   "source": []
  },
  {
   "cell_type": "code",
   "execution_count": null,
   "id": "59675208",
   "metadata": {},
   "outputs": [],
   "source": []
  },
  {
   "cell_type": "code",
   "execution_count": null,
   "id": "a4e14d9b",
   "metadata": {},
   "outputs": [],
   "source": []
  }
 ],
 "metadata": {
  "kernelspec": {
   "display_name": "Python 3",
   "language": "python",
   "name": "python3"
  },
  "language_info": {
   "codemirror_mode": {
    "name": "ipython",
    "version": 3
   },
   "file_extension": ".py",
   "mimetype": "text/x-python",
   "name": "python",
   "nbconvert_exporter": "python",
   "pygments_lexer": "ipython3",
   "version": "3.6.13"
  }
 },
 "nbformat": 4,
 "nbformat_minor": 5
}
