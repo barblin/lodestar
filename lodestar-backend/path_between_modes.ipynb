{
 "cells": [
  {
   "cell_type": "code",
   "execution_count": 1,
   "id": "3d063652",
   "metadata": {},
   "outputs": [],
   "source": [
    "import time\n",
    "import numpy as np\n",
    "import pandas as pd\n",
    "import sys\n",
    "import networkx as nx\n",
    "from sklearn.neighbors import kneighbors_graph\n",
    "import matplotlib.pyplot as plt\n",
    "\n",
    "import plotly.graph_objects as go\n",
    "import math"
   ]
  },
  {
   "cell_type": "code",
   "execution_count": 2,
   "id": "691c0310",
   "metadata": {},
   "outputs": [],
   "source": [
    "def pairwise_loop(iterable):\n",
    "    return zip(iterable, iterable[1:])"
   ]
  },
  {
   "cell_type": "code",
   "execution_count": 3,
   "id": "9b847313",
   "metadata": {},
   "outputs": [],
   "source": [
    "sys.path.append('/home/sebastian/Documents/PhD/pyprojects/')\n",
    "sys.path.append('/home/sebastian/Documents/PhD/pyprojects/Modality/')\n",
    "\n",
    "from Modality.SigMA import SigMA"
   ]
  },
  {
   "cell_type": "code",
   "execution_count": 4,
   "id": "e48936d7",
   "metadata": {},
   "outputs": [],
   "source": [
    "fname = 'cluster_data_uppersco_extravel_covmtx.csv'\n",
    "data = pd.read_csv(fname)"
   ]
  },
  {
   "cell_type": "code",
   "execution_count": 5,
   "id": "a5433d39",
   "metadata": {},
   "outputs": [
    {
     "name": "stderr",
     "output_type": "stream",
     "text": [
      "/home/sebastian/anaconda3/envs/my_root_env/lib/python3.6/site-packages/pandas/core/frame.py:3069: SettingWithCopyWarning:\n",
      "\n",
      "\n",
      "A value is trying to be set on a copy of a slice from a DataFrame.\n",
      "Try using .loc[row_indexer,col_indexer] = value instead\n",
      "\n",
      "See the caveats in the documentation: https://pandas.pydata.org/pandas-docs/stable/user_guide/indexing.html#returning-a-view-versus-a-copy\n",
      "\n"
     ]
    }
   ],
   "source": [
    "data_axes = ['X', 'Y', 'Z', 'v_alpha', 'v_delta']\n",
    "pos_cols = ['X', 'Y', 'Z']\n",
    "c_pos, c_vel = 1, 5   # See infos on scaling in Kerr+2021 (https://arxiv.org/pdf/2105.09338.pdf)\n",
    "\n",
    "df_cluster = data[data_axes]\n",
    "df_cluster[['v_alpha', 'v_delta']] *= c_vel"
   ]
  },
  {
   "cell_type": "code",
   "execution_count": 6,
   "id": "cdbc229a",
   "metadata": {},
   "outputs": [
    {
     "name": "stderr",
     "output_type": "stream",
     "text": [
      "/home/sebastian/anaconda3/envs/my_root_env/lib/python3.6/site-packages/sklearn/utils/validation.py:70: FutureWarning:\n",
      "\n",
      "Pass n_neighbors=50 as keyword args. From version 0.25 passing these as positional arguments will result in an error\n",
      "\n"
     ]
    },
    {
     "name": "stdout",
     "output_type": "stream",
     "text": [
      "CPU times: user 51.7 s, sys: 344 ms, total: 52.1 s\n",
      "Wall time: 17.6 s\n"
     ]
    }
   ],
   "source": [
    "%%time\n",
    "max_knn = 70\n",
    "te = SigMA(df_cluster, max_neighbors=50, beta=0.99, knn_initcluster_graph=50, knn_hypotest=20, knn_rho_max=max_knn)"
   ]
  },
  {
   "cell_type": "code",
   "execution_count": 7,
   "id": "a82b4028",
   "metadata": {},
   "outputs": [
    {
     "name": "stdout",
     "output_type": "stream",
     "text": [
      "CPU times: user 2.25 s, sys: 4.63 ms, total: 2.26 s\n",
      "Wall time: 2.25 s\n"
     ]
    }
   ],
   "source": [
    "%%time\n",
    "res = te.fit(alpha=0.01)"
   ]
  },
  {
   "cell_type": "markdown",
   "id": "95c0dc08",
   "metadata": {},
   "source": [
    "## Find path between any tow points "
   ]
  },
  {
   "cell_type": "code",
   "execution_count": 10,
   "id": "de60b6b9",
   "metadata": {},
   "outputs": [],
   "source": [
    "edges, columns = te.cluster_borders.nonzero()\n",
    "# Index array sorted by density\n",
    "sorted_by_density = np.argsort(te.cluster_borders[edges, columns])[::-1]"
   ]
  },
  {
   "cell_type": "code",
   "execution_count": 11,
   "id": "20c5ca1d",
   "metadata": {},
   "outputs": [],
   "source": [
    "data_idx = np.arange(te.data.shape[0])\n",
    "parents = np.arange(te.t.n_leaves_)\n",
    "# Get modal points of all \n",
    "cluster_modes = [data_idx[te.t.leaf_labels_ == i][\n",
    "                     np.argmax(te.t.weights_[te.t.leaf_labels_ == i])]\n",
    "                 for i in range(te.t.n_leaves_)\n",
    "                 ]"
   ]
  },
  {
   "cell_type": "code",
   "execution_count": 12,
   "id": "943a30b4",
   "metadata": {},
   "outputs": [],
   "source": [
    "# Loop through saddle points and merge clusters\n",
    "merge_sequence = [] # <-- keys...mode that merges into other value mode\n",
    "for i, (e, c) in enumerate(zip(edges[sorted_by_density], columns[sorted_by_density])):\n",
    "    \n",
    "    e_rho = te.t.weights_[cluster_modes[e]]\n",
    "    c_rho = te.t.weights_[cluster_modes[c]]\n",
    "    \n",
    "    if e_rho>c_rho:\n",
    "        # c merges into e\n",
    "        merge_sequence.append((cluster_modes[c], cluster_modes[e]))\n",
    "    else:\n",
    "        # e merges into c\n",
    "        merge_sequence.append((cluster_modes[e], cluster_modes[c]))"
   ]
  },
  {
   "cell_type": "code",
   "execution_count": 18,
   "id": "3b85b5b3",
   "metadata": {},
   "outputs": [],
   "source": [
    "def shortest_path(merge_sequence, until_idx, source, target):\n",
    "    G = nx.Graph()\n",
    "    G.add_edges_from(merge_sequence[:until_idx])\n",
    "    try:\n",
    "        path = nx.shortest_path(G, source=source, target=target)\n",
    "    except:\n",
    "        path = []\n",
    "    return path\n",
    "\n",
    "\n",
    "def source_occurance(merge_sequence, source, target):\n",
    "    source_list = np.asarray([source_target[0] for source_target in merge_sequence])\n",
    "    return np.sort(np.where((source_list==source) | (source_list==target) )[0])"
   ]
  },
  {
   "cell_type": "code",
   "execution_count": 19,
   "id": "5ad0e3ea",
   "metadata": {},
   "outputs": [],
   "source": [
    "map_clustermodes_2_saddleidx = {cm: idx for idx, cm in enumerate(cluster_modes)}"
   ]
  },
  {
   "cell_type": "code",
   "execution_count": 20,
   "id": "09e2def7",
   "metadata": {},
   "outputs": [],
   "source": [
    "def path_outline(te, source, target, merge_sequence, map_clustermodes_2_saddleidx):\n",
    "    space_path = []\n",
    "    for until_idx in source_occurance(merge_sequence, source, target):\n",
    "        path = shortest_path(merge_sequence, until_idx=until_idx+1, source=source, target=target)\n",
    "        # If the has has entries, it is the correct path\n",
    "        if len(path)>0:\n",
    "            for i, (start, end) in enumerate(pairwise_loop(path)):    \n",
    "                saddle_pt = te.cluster_saddle_points[frozenset({map_clustermodes_2_saddleidx[start], map_clustermodes_2_saddleidx[end]})]\n",
    "                start_pt = te.data[start]\n",
    "                end_pt = te.data[end]\n",
    "                if i==0:\n",
    "                    space_path += [start_pt, saddle_pt, end_pt]\n",
    "                else:\n",
    "                    # start_pt is last entries end_pt --> avoid duplicates\n",
    "                    space_path += [saddle_pt, end_pt]\n",
    "                    \n",
    "            return space_path\n",
    "    # If no path was found raise error\n",
    "    raise ValueError(f'Source ({source}) and target ({target}) do not have a connecting path!')\n",
    "    "
   ]
  },
  {
   "cell_type": "markdown",
   "id": "0073d879",
   "metadata": {},
   "source": [
    "## Example usage"
   ]
  },
  {
   "cell_type": "code",
   "execution_count": 23,
   "id": "3e8e7c96",
   "metadata": {},
   "outputs": [
    {
     "data": {
      "text/plain": [
       "[array([  94.50539639,  -26.75910567,   66.54171553, -243.11073934,\n",
       "          69.69481751]),\n",
       " array([ 185.20114341,  -16.8944994 ,   89.97010394, -269.26466764,\n",
       "          39.06044086]),\n",
       " array([ 136.94191959,  -39.62362433,   63.71649851, -181.53778074,\n",
       "        -149.73861696]),\n",
       " array([  67.85526158,   11.40465988,   90.0949484 , -154.2174657 ,\n",
       "        -217.99981529]),\n",
       " array([ 107.30681039,  -28.25023506,   25.86836394,  -89.85204779,\n",
       "        -201.04284483]),\n",
       " array([  69.8047169 ,   19.64529397,   76.87469795, -143.25555434,\n",
       "        -133.422049  ]),\n",
       " array([ 91.49952456, -42.09763771,  46.33520427, -72.73366383,\n",
       "        -77.16740656]),\n",
       " array([  80.10157371,  -24.83735711,   95.82008199,  -94.02590881,\n",
       "        -170.94131926]),\n",
       " array([ 132.81386993,  -14.361417  ,   16.39860176,  -31.80304362,\n",
       "        -158.34815797]),\n",
       " array([ 132.11687609,   20.57386582,   87.8928632 ,  -94.35820965,\n",
       "        -186.27838552]),\n",
       " array([ 143.63609484,  -24.23798521,   53.94326357, -175.26989999,\n",
       "        -160.55596434])]"
      ]
     },
     "execution_count": 23,
     "metadata": {},
     "output_type": "execute_result"
    }
   ],
   "source": [
    "path_outline(te=te, source=26350, target=33772, merge_sequence=merge_sequence, map_clustermodes_2_saddleidx=map_clustermodes_2_saddleidx)"
   ]
  },
  {
   "cell_type": "code",
   "execution_count": null,
   "id": "958688cc",
   "metadata": {},
   "outputs": [],
   "source": []
  }
 ],
 "metadata": {
  "kernelspec": {
   "display_name": "Python 3",
   "language": "python",
   "name": "python3"
  },
  "language_info": {
   "codemirror_mode": {
    "name": "ipython",
    "version": 3
   },
   "file_extension": ".py",
   "mimetype": "text/x-python",
   "name": "python",
   "nbconvert_exporter": "python",
   "pygments_lexer": "ipython3",
   "version": "3.6.13"
  }
 },
 "nbformat": 4,
 "nbformat_minor": 5
}
